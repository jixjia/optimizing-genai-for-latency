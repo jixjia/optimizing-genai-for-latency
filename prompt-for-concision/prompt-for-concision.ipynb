{
 "cells": [
  {
   "cell_type": "markdown",
   "metadata": {},
   "source": [
    "# Guide LLM to be as concise as possible"
   ]
  },
  {
   "cell_type": "markdown",
   "metadata": {},
   "source": [
    "### Load Helper Functions and Import Libraries"
   ]
  },
  {
   "cell_type": "code",
   "execution_count": 1,
   "metadata": {},
   "outputs": [],
   "source": [
    "import datetime\n",
    "import json\n",
    "import time\n",
    "import os\n",
    "import datetime\n",
    "import json\n",
    "import time\n",
    "from openai import AzureOpenAI\n",
    "from dotenv import load_dotenv\n",
    "import json\n",
    "import copy\n",
    "import textwrap\n",
    "\n",
    "# cost per token for GPT 4 32K\n",
    "prompt_token_cost = 0.06/1000\n",
    "generation_token_cost = 0.12/1000\n",
    "\n",
    "\n",
    "# Load environment variables\n",
    "load_dotenv()\n",
    "\n",
    "def aoai_call(system_message,prompt,model):\n",
    "    client = AzureOpenAI(\n",
    "        api_version=os.getenv(\"API_VERSION\"),\n",
    "        azure_endpoint=os.getenv(\"AZURE_ENDPOINT\"),\n",
    "        api_key=os.getenv(\"API_KEY\")\n",
    "    )\n",
    "\n",
    "    start_time = time.time()\n",
    "\n",
    "    completion = client.chat.completions.create(\n",
    "        model=model,\n",
    "        messages=[\n",
    "            {\"role\": \"system\", \"content\": system_message},\n",
    "            {\"role\": \"user\", \"content\": prompt},\n",
    "        ],\n",
    "    )\n",
    "\n",
    "    end_time = time.time()\n",
    "    e2e_time = end_time - start_time\n",
    "\n",
    "    result=json.loads(completion.model_dump_json(indent=2))\n",
    "    prompt_tokens=result[\"usage\"][\"prompt_tokens\"]\n",
    "    completion_tokens=result[\"usage\"][\"completion_tokens\"]\n",
    "    completion_text=result[\"choices\"][0][\"message\"][\"content\"]\n",
    "\n",
    "    return result,prompt_tokens,completion_tokens,completion_text,e2e_time\n",
    "\n",
    "model=os.getenv(\"MODELGPT432k\")\n",
    "\n",
    "# Read essay from a text file\n",
    "with open('sales_report.txt', 'r') as f:\n",
    "    sales_report = f.read()"
   ]
  },
  {
   "cell_type": "markdown",
   "metadata": {},
   "source": [
    "### A: Naive summarisation, using the model's default verbosity"
   ]
  },
  {
   "cell_type": "code",
   "execution_count": 2,
   "metadata": {},
   "outputs": [
    {
     "name": "stdout",
     "output_type": "stream",
     "text": [
      "Prompt Tokens: 1554\n",
      "Completion Tokens: 277\n",
      "Total cost: $0.1265\n",
      "Time taken: 20.11 seconds\n"
     ]
    }
   ],
   "source": [
    "system_message=\"\"\"\n",
    "You are a helpful AI assistant.\n",
    "\"\"\"\n",
    "prompt=f\"\"\"\n",
    "Document to summarise:\n",
    "{sales_report}\n",
    "Summarise this document. Include the type of game, the sales performance by region, the performance of the launch, and feedback about the launch.\n",
    "\"\"\"\n",
    "\n",
    "result,prompt_tokens,completion_tokens,completion_text,e2e_time=aoai_call(system_message,prompt,model)\n",
    "print(f\"Prompt Tokens: {prompt_tokens}\")\n",
    "print(f\"Completion Tokens: {completion_tokens}\")\n",
    "print(f\"Total cost: ${prompt_tokens*prompt_token_cost + completion_tokens*generation_token_cost:.4f}\")\n",
    "print(f\"Time taken: {e2e_time:.2f} seconds\")\n"
   ]
  },
  {
   "cell_type": "code",
   "execution_count": 3,
   "metadata": {},
   "outputs": [
    {
     "data": {
      "text/plain": [
       "\"The document discusses the global launch of a flagship real-time strategy (RTS) video game with an immersive gameplay, strategic planning, dynamic environments and characters. The game's launch exceeded expectations, particularly in the North American markets where the game sold 1.5 million units against the projected one million units. This success was mirrored in its global sales, especially in the European and Asian markets, which sold 1.8 and 2.0 million units respectively. There was promising growth in the Latin American and African markets, despite lower sales numbers (0.5 and 0.3 million units respectively).\\n\\nUser feedback overall was a mixture of praise and critique. The game's mechanics and strategic elements received commendation, but the micro-transaction system, which involves the use of real money to buy in-game currency and expedite progress, was criticised for making the game too expensive and providing an unfair advantage to players who spend more.\\n\\nThe game's impressive sales figures underscore its appeal and quality, but user feedback points to an urgent need to improve the micro-transaction system. The company's future plan is to re-evaluate this system, making it transparent and fair while not disadvantaging those who choose not to spend extra. Additionally, they plan to alter their marketing strategies to better penetrate the less successful markets. Despite criticisms, the company is confident of continued success with these improvements.\""
      ]
     },
     "execution_count": 3,
     "metadata": {},
     "output_type": "execute_result"
    }
   ],
   "source": [
    "completion_text"
   ]
  },
  {
   "cell_type": "markdown",
   "metadata": {},
   "source": [
    "### B: Summarisation with a focus on conciseness"
   ]
  },
  {
   "cell_type": "code",
   "execution_count": 4,
   "metadata": {},
   "outputs": [
    {
     "name": "stdout",
     "output_type": "stream",
     "text": [
      "Prompt Tokens: 1568\n",
      "Completion Tokens: 135\n",
      "Total cost: $0.1103\n",
      "Time taken: 8.49 seconds\n"
     ]
    }
   ],
   "source": [
    "system_message=\"\"\"\n",
    "You are a helpful AI assistant.\n",
    "\"\"\"\n",
    "prompt=f\"\"\"\n",
    "Document to summarise:\n",
    "{sales_report}\n",
    "Summarise this document. Include the type of game, the sales performance by region, the performance of the launch, and feedback about the launch. Be as succint as possible, using as few words as possible.\n",
    "\"\"\"\n",
    "\n",
    "result,prompt_tokens,completion_tokens,completion_text,e2e_time=aoai_call(system_message,prompt,model)\n",
    "print(f\"Prompt Tokens: {prompt_tokens}\")\n",
    "print(f\"Completion Tokens: {completion_tokens}\")\n",
    "print(f\"Total cost: ${prompt_tokens*prompt_token_cost + completion_tokens*generation_token_cost:.4f}\")\n",
    "print(f\"Time taken: {e2e_time:.2f} seconds\")\n"
   ]
  },
  {
   "cell_type": "code",
   "execution_count": 5,
   "metadata": {},
   "outputs": [
    {
     "data": {
      "text/plain": [
       "\"The document details the global launch of a real time strategy (RTS) video game. The North American launch was highly successful, with sales surpassing initial projections by 1.5 times. Similar success was witnessed in international markets, particularly in Europe and Asia with sales of 1.8 and 2.0 million units respectively. Despite lower sales numbers, potential was identified in the Latin American and African markets. However, user feedback showcased dissatisfaction with the in-game micro-transaction system, perceived as a 'pay-to-win' model. Consequently, future plans involve re-evaluating the micro-transaction system and developing strategies for better penetration into underperforming markets.\""
      ]
     },
     "execution_count": 5,
     "metadata": {},
     "output_type": "execute_result"
    }
   ],
   "source": [
    "completion_text"
   ]
  },
  {
   "cell_type": "markdown",
   "metadata": {},
   "source": [
    "### C: Few shot prompting"
   ]
  },
  {
   "cell_type": "code",
   "execution_count": 6,
   "metadata": {},
   "outputs": [
    {
     "name": "stdout",
     "output_type": "stream",
     "text": [
      "Prompt Tokens: 2004\n",
      "Completion Tokens: 94\n",
      "Total cost: $0.1315\n",
      "Time taken: 8.20 seconds\n"
     ]
    }
   ],
   "source": [
    "system_message=\"\"\"\n",
    "You are a helpful AI assistant.\n",
    "\"\"\"\n",
    "prompt=f\"\"\"\n",
    "\n",
    "\n",
    "You must use the below structure for your summary.\n",
    "START_EXAMPLE:\n",
    "Document:\n",
    "Product Briefing Document\n",
    "I. Product Overview\n",
    "Product: \"Battlefield Conquerors\"\n",
    "Battlefield Conquerors is an immersive, action-packed First-Person Shooter (FPS) game that thrusts players into a gritty, fast-paced world of strategic warfare. Skill, precision, and quick thinking are the keys to victory in this adrenaline-fueled gaming experience.\n",
    "II. Sales Performance\n",
    "Battlefield Conquerors has achieved robust sales across multiple global regions, effectively penetrating the gaming market.\n",
    "North America (NA)\n",
    "In North America, the game has resonated particularly well, with a total of 1.5 million units sold. This success can be attributed to its strategic marketing campaign and the region's affinity for the FPS genre.\n",
    "Europe (EU)\n",
    "Europe has emerged as the game's most successful region in terms of sales, with an impressive 2.0 million units sold. The game's realistic graphics, dynamic gameplay, and stimulating storylines have been lauded by European gamers.\n",
    "Asia-Pacific (APAC)\n",
    "In the APAC region, Battlefield Conquerors has sold 1.0 million units. This solid performance is a testament to its broad appeal and the successful localization of the game's content for these markets.\n",
    "III. Financial Performance\n",
    "Battlefield Conquerors has not only met its financial targets but exceeded them. The game has achieved a performance of 1.2 times its initial budget, demonstrating its profitability and the successful return on investment.\n",
    "IV. Customer Feedback\n",
    "Customer feedback for Battlefield Conquerors has been overwhelmingly positive. Players have praised the game's innovative mechanics, immersive environment, and challenging gameplay.\n",
    "However, some concerns have been raised regarding the game's loading times. These issues have been acknowledged and are currently being addressed by the development team to ensure a seamless and uninterrupted gaming experience for all users moving forward.\n",
    "In conclusion, Battlefield Conquerors is a successful and profitable product, demonstrating strong sales performance across multiple regions. The few areas of improvement identified are being addressed to ensure continued success and customer satisfaction.\n",
    "\n",
    "Summary:\n",
    "Product Type:\n",
    "FPS\n",
    "\n",
    "Sales:\n",
    "NA: 1.5M\n",
    "EU: 2.0M\n",
    "APAC: 1.0M\n",
    "\n",
    "Performance:\n",
    "1.2 times budget.\n",
    "\n",
    "Feedback:\n",
    "Overall positive. Some concerns around loading times.\n",
    "END_EXAMPLE\n",
    "\n",
    "Document:\n",
    "{sales_report}\n",
    "\n",
    "Summary:\n",
    "\"\"\"\n",
    "\n",
    "result,prompt_tokens,completion_tokens,completion_text,e2e_time=aoai_call(system_message,prompt,model)\n",
    "print(f\"Prompt Tokens: {prompt_tokens}\")\n",
    "print(f\"Completion Tokens: {completion_tokens}\")\n",
    "print(f\"Total cost: ${prompt_tokens*prompt_token_cost + completion_tokens*generation_token_cost:.4f}\")\n",
    "print(f\"Time taken: {e2e_time:.2f} seconds\")\n"
   ]
  },
  {
   "cell_type": "code",
   "execution_count": 7,
   "metadata": {},
   "outputs": [
    {
     "data": {
      "text/plain": [
       "\"Product Type:\\nRTS\\n\\nSales:\\nNA: 1.5M\\nEU: 1.8M\\nAsia: 2.0M\\nLA: 0.5M\\nAfrica: 0.3M\\n\\nPerformance:\\n1.5 times initial projections.\\n\\nFeedback:\\nOverall mixed. Criticism targeted at the game's micro-transaction system. \\n\\nFuture Directions:\\nReevaluate the micro-transaction system and improve penetration into underperforming markets.\""
      ]
     },
     "execution_count": 7,
     "metadata": {},
     "output_type": "execute_result"
    }
   ],
   "source": [
    "completion_text"
   ]
  }
 ],
 "metadata": {
  "kernelspec": {
   "display_name": ".venv",
   "language": "python",
   "name": "python3"
  },
  "language_info": {
   "codemirror_mode": {
    "name": "ipython",
    "version": 3
   },
   "file_extension": ".py",
   "mimetype": "text/x-python",
   "name": "python",
   "nbconvert_exporter": "python",
   "pygments_lexer": "ipython3",
   "version": "3.9.6"
  }
 },
 "nbformat": 4,
 "nbformat_minor": 2
}
