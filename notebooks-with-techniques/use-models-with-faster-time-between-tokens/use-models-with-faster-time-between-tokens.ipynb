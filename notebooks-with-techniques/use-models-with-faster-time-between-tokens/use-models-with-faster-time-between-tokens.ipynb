{
 "cells": [
  {
   "cell_type": "markdown",
   "metadata": {},
   "source": [
    "# Use models with faster time between tokens"
   ]
  },
  {
   "cell_type": "markdown",
   "metadata": {},
   "source": [
    "#### Load Helper Functions and Import Libraries"
   ]
  },
  {
   "cell_type": "code",
   "execution_count": 2,
   "metadata": {},
   "outputs": [],
   "source": [
    "import datetime\n",
    "import json\n",
    "import time\n",
    "import os\n",
    "import datetime\n",
    "import json\n",
    "import time\n",
    "from openai import AzureOpenAI\n",
    "from dotenv import load_dotenv\n",
    "import json\n",
    "import copy\n",
    "import textwrap\n",
    "\n",
    "# Load environment variables\n",
    "load_dotenv()\n",
    "\n",
    "def aoai_call(system_message,prompt,model):\n",
    "    client = AzureOpenAI(\n",
    "        api_version=os.getenv(\"API_VERSION\"),\n",
    "        azure_endpoint=os.getenv(\"AZURE_ENDPOINT\"),\n",
    "        api_key=os.getenv(\"API_KEY\")\n",
    "    )\n",
    "\n",
    "    start_time = time.time()\n",
    "\n",
    "    completion = client.chat.completions.create(\n",
    "        model=model,\n",
    "        messages=[\n",
    "            {\"role\": \"system\", \"content\": system_message},\n",
    "            {\"role\": \"user\", \"content\": prompt},\n",
    "        ],\n",
    "    )\n",
    "\n",
    "    end_time = time.time()\n",
    "    e2e_time = end_time - start_time\n",
    "\n",
    "    result=json.loads(completion.model_dump_json(indent=2))\n",
    "    prompt_tokens=result[\"usage\"][\"prompt_tokens\"]\n",
    "    completion_tokens=result[\"usage\"][\"completion_tokens\"]\n",
    "    completion_text=result[\"choices\"][0][\"message\"][\"content\"]\n",
    "\n",
    "    return result,prompt_tokens,completion_tokens,completion_text,e2e_time\n"
   ]
  },
  {
   "cell_type": "markdown",
   "metadata": {},
   "source": [
    "## Use case: Summarising a report\n",
    "\n",
    "The use case is largely irrelevant to demonstrating the difference in speed between LLM models, however it is important that the smaller parameter model has the ability to actually achieve the use case."
   ]
  },
  {
   "cell_type": "code",
   "execution_count": 5,
   "metadata": {},
   "outputs": [],
   "source": [
    "documents_to_check=\"\"\"\n",
    "\n",
    "1. Pigeons’ Backflips Linked to Genetics Scientists have unraveled the genetic basis behind a fascinating avian behavior: some pigeons perform backward somersaults mid-flight. Dr. Avani Patel, a researcher at the Avian Genetics Institute, identified specific genes associated with this acrobatic feat in parlor roller pigeons. These findings shed light on the evolution of pigeon behavior and could have implications for understanding complex traits in other animals1.\n",
    "\n",
    "2. Desert Ants’ Brain Adaptations to Magnetic Fields Researchers from the Desert Ecology Lab have revealed how magnetic fields shape the brains of desert ants. By studying the neural patterns in these tiny navigators, they discovered that the ants’ brains undergo structural changes in response to Earth’s magnetic field. This adaptation enhances their ability to find their way back to the nest, even in the harsh desert environment. The study provides fresh insights into the remarkable adaptations of these resilient insects1.\n",
    "\n",
    "\"\"\""
   ]
  },
  {
   "cell_type": "markdown",
   "metadata": {},
   "source": [
    "### A: Naive summarisation, using the model's default verbosity"
   ]
  },
  {
   "cell_type": "code",
   "execution_count": 6,
   "metadata": {},
   "outputs": [],
   "source": [
    "model=os.getenv(\"MODELGPT432k\")"
   ]
  },
  {
   "cell_type": "code",
   "execution_count": 7,
   "metadata": {},
   "outputs": [
    {
     "name": "stdout",
     "output_type": "stream",
     "text": [
      "Prompt Tokens: 229\n",
      "Completion Tokens: 189\n",
      "Total cost: $0.0364\n",
      "Time taken: 17.29 seconds\n"
     ]
    }
   ],
   "source": [
    "system_message=\"\"\"\n",
    "You help spell check documents. Rewrite the entire document word for word, correcting any spelling or grammatical errors.\n",
    "\"\"\"\n",
    "prompt=f\"\"\"\n",
    "Documents to check and rewrite:\n",
    "{documents_to_check}\n",
    "\"\"\"\n",
    "\n",
    "result,prompt_tokens,completion_tokens,completion_text,e2e_time=aoai_call(system_message,prompt,model)\n",
    "print(f\"Prompt Tokens: {prompt_tokens}\")\n",
    "print(f\"Completion Tokens: {completion_tokens}\")\n",
    "print(f\"Time taken: {e2e_time:.2f} seconds\")\n",
    "print(completion_text)\n"
   ]
  },
  {
   "cell_type": "markdown",
   "metadata": {},
   "source": [
    "### B: Summarisation with a focus on conciseness"
   ]
  },
  {
   "cell_type": "code",
   "execution_count": 8,
   "metadata": {},
   "outputs": [],
   "source": [
    "model=os.getenv(\"MODEL35\")"
   ]
  },
  {
   "cell_type": "code",
   "execution_count": 9,
   "metadata": {},
   "outputs": [
    {
     "name": "stdout",
     "output_type": "stream",
     "text": [
      "Prompt Tokens: 229\n",
      "Completion Tokens: 189\n",
      "Total cost: $0.0364\n",
      "Time taken: 4.68 seconds\n",
      "1. Pigeons' Backflips Linked to Genetics: Scientists have unraveled the genetic basis behind a fascinating avian behavior: some pigeons perform backward somersaults mid-flight. Dr. Avani Patel, a researcher at the Avian Genetics Institute, identified specific genes associated with this acrobatic feat in parlor roller pigeons. These findings shed light on the evolution of pigeon behavior and could have implications for understanding complex traits in other animals.\n",
      "\n",
      "2. Desert Ants' Brain Adaptations to Magnetic Fields: Researchers from the Desert Ecology Lab have revealed how magnetic fields shape the brains of desert ants. By studying the neural patterns in these tiny navigators, they discovered that the ants' brains undergo structural changes in response to the Earth's magnetic field. This adaptation enhances their ability to find their way back to the nest, even in the harsh desert environment. The study provides fresh insights into the remarkable adaptations of these resilient insects.\n"
     ]
    }
   ],
   "source": [
    "system_message=\"\"\"\n",
    "You help spell check documents. Rewrite the entire document word for word, correcting any spelling or grammatical errors.\n",
    "\"\"\"\n",
    "prompt=f\"\"\"\n",
    "Documents to check and rewrite:\n",
    "{documents_to_check}\n",
    "\"\"\"\n",
    "\n",
    "result,prompt_tokens,completion_tokens,completion_text,e2e_time=aoai_call(system_message,prompt,model)\n",
    "print(f\"Prompt Tokens: {prompt_tokens}\")\n",
    "print(f\"Completion Tokens: {completion_tokens}\")\n",
    "print(f\"Time taken: {e2e_time:.2f} seconds\")\n",
    "print(completion_text)\n"
   ]
  },
  {
   "cell_type": "markdown",
   "metadata": {},
   "source": [
    "## Analysing benchmarks for Time-Between-Tokens\n",
    "\n",
    "These benchmarks were developed using the AOAI benchmarking tool."
   ]
  },
  {
   "cell_type": "code",
   "execution_count": 17,
   "metadata": {},
   "outputs": [
    {
     "data": {
      "image/png": "[encoded data removed]",
      "text/plain": [
       "<Figure size 640x480 with 1 Axes>"
      ]
     },
     "metadata": {},
     "output_type": "display_data"
    }
   ],
   "source": [
    "import pandas as pd\n",
    "import matplotlib.pyplot as plt\n",
    "\n",
    "# Load the CSV files\n",
    "df_gpt4 = pd.read_csv('stats_gpt4_rate_5_shape_custom_contexttokens_200_maxtokens_200_contextgenerationclass_story_generator_clients_60_duration_30_20231219_195219.csv')\n",
    "df_gpt35 = pd.read_csv('stats_gpt35turbo0613_rate_5_shape_custom_contexttokens_200_maxtokens_200_contextgenerationclass_story_generator_clients_60_duration_300_20240114_232110.csv')\n",
    "\n",
    "# Drop rows with NA in the 'tbt_avg' column\n",
    "df_gpt4 = df_gpt4.dropna(subset=['tbt_avg'])\n",
    "df_gpt35 = df_gpt35.dropna(subset=['tbt_avg'])\n",
    "\n",
    "# Calculate the average of 'tbt_avg' for each DataFrame\n",
    "gpt4_avg = df_gpt4['tbt_avg'].mean()\n",
    "gpt3_avg = df_gpt3['tbt_avg'].mean()\n",
    "\n",
    "# Plot the averages\n",
    "plt.bar(['GPT-4', 'GPT-3.5'], [gpt4_avg, gpt3_avg])\n",
    "plt.ylabel('Average Time-Between-Tokens (seconds)')\n",
    "plt.show()"
   ]
  },
  {
   "cell_type": "code",
   "execution_count": null,
   "metadata": {},
   "outputs": [],
   "source": []
  }
 ],
 "metadata": {
  "kernelspec": {
   "display_name": ".venv",
   "language": "python",
   "name": "python3"
  },
  "language_info": {
   "codemirror_mode": {
    "name": "ipython",
    "version": 3
   },
   "file_extension": ".py",
   "mimetype": "text/x-python",
   "name": "python",
   "nbconvert_exporter": "python",
   "pygments_lexer": "ipython3",
   "version": "3.11.6"
  }
 },
 "nbformat": 4,
 "nbformat_minor": 2
}
