{
 "cells": [
  {
   "cell_type": "markdown",
   "id": "1972a352-a0e3-41b7-81dc-dd4ae2b890c3",
   "metadata": {},
   "source": [
    "# Prompt Token Compression"
   ]
  },
  {
   "cell_type": "code",
   "execution_count": 1,
   "id": "18ad9327",
   "metadata": {},
   "outputs": [],
   "source": [
    "import datetime\n",
    "import json\n",
    "import time\n",
    "import os\n",
    "import datetime\n",
    "import json\n",
    "import time\n",
    "from openai import AzureOpenAI\n",
    "from dotenv import load_dotenv\n",
    "import json\n",
    "import copy\n",
    "import textwrap\n",
    "\n",
    "# Load environment variables\n",
    "load_dotenv()\n",
    "\n",
    "def aoai_call(prompt,model):\n",
    "    client = AzureOpenAI(\n",
    "        api_version=os.getenv(\"API_VERSION\"),\n",
    "        azure_endpoint=os.getenv(\"AZURE_ENDPOINT\"),\n",
    "        api_key=os.getenv(\"API_KEY\")\n",
    "    )\n",
    "\n",
    "    start_time = time.time()\n",
    "\n",
    "    completion = client.chat.completions.create(\n",
    "        model=model,\n",
    "        messages=[\n",
    "            {\"role\": \"user\", \"content\": prompt},\n",
    "        ],\n",
    "    )\n",
    "\n",
    "    end_time = time.time()\n",
    "    e2e_time = end_time - start_time\n",
    "\n",
    "    result=json.loads(completion.model_dump_json(indent=2))\n",
    "    prompt_tokens=result[\"usage\"][\"prompt_tokens\"]\n",
    "    completion_tokens=result[\"usage\"][\"completion_tokens\"]\n",
    "    completion_text=result[\"choices\"][0][\"message\"][\"content\"]\n",
    "\n",
    "    return result,prompt_tokens,completion_tokens,completion_text,e2e_time\n",
    "\n",
    "model=os.getenv(\"MODEL35\")\n",
    "\n",
    "prompt_complex = open(\"./prompt_hardest.txt\").read()\n",
    "\n",
    "question = \"\"\"Josh decides to try flipping a house.  He buys a house for $80,000 and then puts in $50,000 in repairs.  This increased the value of the house by 150%.  How much profit did he make?\"\"\"\n",
    "\n",
    "answer=\"\"\"The cost of the house and repairs came out to 80,000+50,000=$<<80000+50000=130000>>130,000\n",
    "He increased the value of the house by 80,000*1.5=<<80000*1.5=120000>>120,000\n",
    "So the new value of the house is 120,000+80,000=$<<120000+80000=200000>>200,000\n",
    "So he made a profit of 200,000-130,000=$<<200000-130000=70000>>70,000\n",
    "#### 70000\"\"\"\n",
    "\n",
    "\n"
   ]
  },
  {
   "cell_type": "markdown",
   "id": "ba1c6d52-dc87-434c-a41c-0bbc8a286504",
   "metadata": {},
   "source": [
    "### Base Case: full, uncompressed prompt"
   ]
  },
  {
   "cell_type": "code",
   "execution_count": 2,
   "id": "e89fb8f5",
   "metadata": {},
   "outputs": [
    {
     "name": "stdout",
     "output_type": "stream",
     "text": [
      "Prompt Tokens: 2435\n",
      "Completion Tokens: 110\n",
      "Time taken: 3.85 seconds\n",
      "Completion text: Let's think step by step\n",
      "The value of the house increased by 150%, which means it increased by $80,000 * 150% = $120,000\n",
      "The total value of the house after repairs is $80,000 + $120,000 = $200,000\n",
      "Josh invested a total of $80,000 + $50,000 = $130,000 in the house\n",
      "Therefore, his profit is $200,000 - $130,000 = $70,000\n",
      "The answer is $70,000\n"
     ]
    }
   ],
   "source": [
    "\n",
    "instruction = \"Please reference the following examples to answer the math question,\\n\"\n",
    "prompt = instruction + prompt_complex + \"\\n\\nQuestion: \" + question\n",
    "\n",
    "\n",
    "result,prompt_tokens,completion_tokens,completion_text,e2e_time=aoai_call(prompt,model)\n",
    "print(f\"Prompt Tokens: {prompt_tokens}\")\n",
    "print(f\"Completion Tokens: {completion_tokens}\")\n",
    "print(f\"Time taken: {e2e_time:.2f} seconds\")\n",
    "print(f\"Completion text: {completion_text}\")"
   ]
  },
  {
   "cell_type": "markdown",
   "id": "9aa90492-8ad1-4a89-85c5-26b8472f1ff0",
   "metadata": {},
   "source": [
    "### Applying Prompt Compression\n",
    "\n",
    "In this example, the prompt compression has been completed on a virtual machine with a GPU. The compressed prompt has simply been stored in this notebook as text. To try out the entire process yourself, see the LLMLingua examples here:\n",
    "\n",
    "https://github.com/microsoft/LLMLingua/tree/main/examples"
   ]
  },
  {
   "cell_type": "code",
   "execution_count": 3,
   "id": "fa638dec-c9ec-4dce-9dac-d768145de714",
   "metadata": {},
   "outputs": [],
   "source": [
    "# Commented out as this step requires a GPU, or if run on CPU can require complex dependencies\n",
    "\n",
    "# # Setup LLMLingua\n",
    "# from llmlingua import PromptCompressor\n",
    "\n",
    "# llm_lingua = PromptCompressor()"
   ]
  },
  {
   "cell_type": "code",
   "execution_count": 4,
   "id": "5f61a186-6641-4118-ad04-5245a53b6d79",
   "metadata": {},
   "outputs": [],
   "source": [
    "# this is the output of the above step\n",
    "\n",
    "compressed_prompt = {'compressed_prompt': 'Question: Sam bought a dozen boxes, each with 30 highlighter pens inside, for $10 each. He reanged five of boxes into packages of sixlters each and sold them $3 per. He sold the rest theters separately at the of three pens $2. How much did make in total, dollars?\\nLets think step step\\nSam bought 1 boxes x010 worth oflters.\\nHe bought 12 * 00ters in\\nSam then took 5 boxes 6ters0ters\\nHe sold these boxes for 5 *5\\nAfterelling these  boxes there were 300ters\\nese form 30 /310 of three\\n sold each for2 each, so made =0 from\\n, he0 $15\\nSince his original1 he earned $520 = $115 in profit.\\nThe answer is 115',\n",
    " 'origin_tokens': 2365,\n",
    " 'compressed_tokens': 172,\n",
    " 'ratio': '13.8x',\n",
    " 'rate': '7.3%',\n",
    " 'saving': ', Saving $0.1 in GPT-4.'}"
   ]
  },
  {
   "cell_type": "code",
   "execution_count": 5,
   "id": "1d1ed216",
   "metadata": {},
   "outputs": [
    {
     "name": "stdout",
     "output_type": "stream",
     "text": [
      "Prompt Tokens: 242\n",
      "Completion Tokens: 165\n",
      "Time taken: 3.83 seconds\n",
      "Completion text: Step by step solution:\n",
      "\n",
      "1. Josh bought the house for $80,000 and spent $50,000 on repairs.\n",
      "2. The repairs increased the value of the house by 150%, which means the new value of the house is 100% + 150% = 250% of the original value.\n",
      "3. To find the new value of the house, we can multiply the original value by 250%: $80,000 * 250% = $200,000.\n",
      "4. Josh's profit is the difference between the new value of the house and the total amount he spent: $200,000 - ($80,000 + $50,000) = $200,000 - $130,000 = $70,000.\n",
      "\n",
      "Therefore, Josh made a profit of $70,000.\n"
     ]
    }
   ],
   "source": [
    "instruction = \"Please reference the following examples to answer the math question,\\n\"\n",
    "\n",
    "prompt = instruction + compressed_prompt[\"compressed_prompt\"] + \"\\n\\nQuestion: \" + question\n",
    "\n",
    "result,prompt_tokens,completion_tokens,completion_text,e2e_time=aoai_call(prompt,model)\n",
    "print(f\"Prompt Tokens: {prompt_tokens}\")\n",
    "print(f\"Completion Tokens: {completion_tokens}\")\n",
    "print(f\"Time taken: {e2e_time:.2f} seconds\")\n",
    "print(f\"Completion text: {completion_text}\")"
   ]
  }
 ],
 "metadata": {
  "kernelspec": {
   "display_name": "Python 3 (ipykernel)",
   "language": "python",
   "name": "python3"
  },
  "language_info": {
   "codemirror_mode": {
    "name": "ipython",
    "version": 3
   },
   "file_extension": ".py",
   "mimetype": "text/x-python",
   "name": "python",
   "nbconvert_exporter": "python",
   "pygments_lexer": "ipython3",
   "version": "3.11.9"
  }
 },
 "nbformat": 4,
 "nbformat_minor": 5
}
