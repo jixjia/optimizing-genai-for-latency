{
 "cells": [
  {
   "cell_type": "markdown",
   "metadata": {},
   "source": [
    "# Set max_tokens to be close to the expected value"
   ]
  },
  {
   "cell_type": "markdown",
   "metadata": {},
   "source": [
    "#### Load Helper Functions and Import Libraries"
   ]
  },
  {
   "cell_type": "code",
   "execution_count": 25,
   "metadata": {},
   "outputs": [],
   "source": [
    "import datetime\n",
    "import json\n",
    "import time\n",
    "import os\n",
    "import datetime\n",
    "import json\n",
    "import time\n",
    "from openai import AzureOpenAI\n",
    "from dotenv import load_dotenv\n",
    "import json\n",
    "import copy\n",
    "import textwrap\n",
    "\n",
    "# cost per token for GPT 4 32K\n",
    "prompt_token_cost = 0.06/1000\n",
    "generation_token_cost = 0.12/1000\n",
    "\n",
    "\n",
    "# Load environment variables\n",
    "load_dotenv()\n",
    "\n",
    "import os\n",
    "from openai import AzureOpenAI\n",
    "\n",
    "def aoai_call(system_message, prompt, model, max_tokens):\n",
    "    client = AzureOpenAI(\n",
    "        api_version=os.getenv(\"API_VERSION\"),\n",
    "        azure_endpoint=os.getenv(\"AZURE_ENDPOINT\"),\n",
    "        api_key=os.getenv(\"API_KEY\")\n",
    "    )\n",
    "\n",
    "    start_time = time.time()\n",
    "\n",
    "    completion = client.chat.completions.create(\n",
    "        model=model,\n",
    "        messages=[\n",
    "            {\"role\": \"system\", \"content\": system_message},\n",
    "            {\"role\": \"user\", \"content\": prompt},\n",
    "        ],\n",
    "        max_tokens=max_tokens\n",
    "    )\n",
    "\n",
    "    end_time = time.time()\n",
    "    e2e_time = end_time - start_time\n",
    "\n",
    "    result = json.loads(completion.model_dump_json(indent=2))\n",
    "    prompt_tokens = result[\"usage\"][\"prompt_tokens\"]\n",
    "    completion_tokens = result[\"usage\"][\"completion_tokens\"]\n",
    "    completion_text = result[\"choices\"][0][\"message\"][\"content\"]\n",
    "\n",
    "    return result, prompt_tokens, completion_tokens, completion_text, e2e_time\n",
    "model=os.getenv(\"MODELGPT432k\")"
   ]
  },
  {
   "cell_type": "markdown",
   "metadata": {},
   "source": [
    "## Use case: Summarising a report"
   ]
  },
  {
   "cell_type": "code",
   "execution_count": 26,
   "metadata": {},
   "outputs": [],
   "source": [
    "documents_to_check=\"\"\"\n",
    "\n",
    "1. “Quantum Entanglement: Spooky Action at a Distance”\n",
    "Abstract:\n",
    "Quantum entanglement, a phenomenon that baffled even Einstein, lies at the heart of quantum mechanics. In this article, we delve into the mysterious world of entangled particles, exploring how they can be connected across vast distances instantaneously. From Bell’s theorem to quantum teleportation, we unravel the enigma of entanglement and its potential applications in quantum computing and secure communication.\n",
    "\n",
    "Introduction:\n",
    "Quantum entanglement defies classical intuition. Imagine two particles—say, electrons—created together and then separated by light-years. Remarkably, their properties remain intertwined, regardless of the distance between them. When one particle’s state changes, the other responds instantaneously, as if they share a hidden connection. But how does this “spooky action at a distance” work?\n",
    "\n",
    "Bell’s Theorem:\n",
    "Physicist John Bell proposed a test to determine whether entanglement was real or merely a statistical fluke. Experiments confirmed Bell’s predictions: the correlations between entangled particles violated classical limits. Quantum mechanics prevailed, and entanglement emerged as a fundamental property of the universe.\n",
    "\n",
    "Quantum Teleportation:\n",
    "Entanglement enables quantum teleportation—a process where information about one particle is transmitted to another, even if they are light-years apart. This isn’t “Star Trek” teleportation of matter; instead, it transfers quantum states. Researchers are harnessing this phenomenon for secure communication and quantum networks.\n",
    "\n",
    "Applications:\n",
    "Beyond teleportation, entanglement plays a pivotal role in quantum computing. Qubits, the building blocks of quantum computers, rely on entanglement for their power. Scientists are also exploring entanglement-based sensors, clocks, and cryptography.\n",
    "\n",
    "2. “CRISPR-Cas9: Rewriting the Genetic Code”\n",
    "Abstract:\n",
    "CRISPR-Cas9, a revolutionary gene-editing tool, has transformed biology and medicine. In this article, we explore the origins of CRISPR, its mechanism, and its impact on genetic research. From curing genetic diseases to creating designer organisms, CRISPR opens new frontiers in biotechnology.\n",
    "\n",
    "Introduction:\n",
    "Clustered Regularly Interspaced Short Palindromic Repeats (CRISPR) were initially discovered in bacteria as part of their immune system. Scientists soon realized that they could repurpose this system for precise gene editing. Enter CRISPR-Cas9—the Swiss Army knife of genetic manipulation.\n",
    "\n",
    "How It Works:\n",
    "CRISPR-Cas9 acts like molecular scissors. It uses a guide RNA to target specific DNA sequences, and the Cas9 protein cuts the DNA at that location. Researchers can then insert, delete, or modify genes with unprecedented accuracy. The simplicity and efficiency of CRISPR have revolutionized genetic research.\n",
    "\n",
    "Applications:\n",
    "Treating Genetic Diseases: CRISPR holds promise for curing genetic disorders like sickle cell anemia and cystic fibrosis. Clinical trials are underway.\n",
    "Agriculture: CRISPR can create crops resistant to pests, drought, and disease.\n",
    "Designer Babies?: Ethical debates surround using CRISPR for human enhancement.\n",
    "Conservation: CRISPR may help save endangered species by editing their genomes.\n",
    "\n",
    "\"\"\""
   ]
  },
  {
   "cell_type": "markdown",
   "metadata": {},
   "source": [
    "### A: Naive summarisation, using the model's default verbosity"
   ]
  },
  {
   "cell_type": "code",
   "execution_count": 27,
   "metadata": {},
   "outputs": [
    {
     "name": "stdout",
     "output_type": "stream",
     "text": [
      "Prompt Tokens: 672\n",
      "Completion Tokens: 170\n",
      "Total cost: $0.0607\n",
      "Time taken: 3.25 seconds\n",
      "Title: Exploring Quantum Entanglement and CRISPR-Cas9\n",
      "\n",
      "Summary:\n",
      "The first document dives into the concept of quantum entanglement, a puzzling phenomenon that connects particles across vast distances instantly. It explores how physicist John Bell's theorem proved the reality of entanglement and how it enables quantum teleportation and plays a pivotal role in quantum computing, secure communication, and cryptography.\n",
      "\n",
      "The second document delves into CRISPR-Cas9, a groundbreaking gene-editing tool derived from bacteria. It explains how CRISPR-Cas9 acts as molecular scissors to edit genes with high precision. The article highlights CRISPR's potential applications in treating genetic diseases, revolutionizing agriculture, potentially enabling human enhancement, and even aiding conservation efforts.\n",
      "\n",
      "Both documents discuss the origins, mechanisms, and exciting potential of these cutting-edge scientific advancements.\n"
     ]
    }
   ],
   "source": [
    "system_message=\"\"\"\n",
    "You help write a summary of this document.\n",
    "\"\"\"\n",
    "prompt=f\"\"\"\n",
    "Documents to summarize:\n",
    "{documents_to_check}\n",
    "\"\"\"\n",
    "\n",
    "result,prompt_tokens,completion_tokens,completion_text,e2e_time=aoai_call(system_message,prompt,model,2000)\n",
    "print(f\"Prompt Tokens: {prompt_tokens}\")\n",
    "print(f\"Completion Tokens: {completion_tokens}\")\n",
    "print(f\"Total cost: ${prompt_tokens*prompt_token_cost + completion_tokens*generation_token_cost:.4f}\")\n",
    "print(f\"Time taken: {e2e_time:.2f} seconds\")\n",
    "print(completion_text)\n"
   ]
  },
  {
   "cell_type": "markdown",
   "metadata": {},
   "source": [
    "### B: Set max_tokens to expected value (with margin)"
   ]
  },
  {
   "cell_type": "code",
   "execution_count": 28,
   "metadata": {},
   "outputs": [
    {
     "name": "stdout",
     "output_type": "stream",
     "text": [
      "Prompt Tokens: 672\n",
      "Completion Tokens: 221\n",
      "Total cost: $0.0668\n",
      "Time taken: 4.71 seconds\n",
      "Summary:\n",
      "\n",
      "Document 1 titled \"Quantum Entanglement: Spooky Action at a Distance\" discusses the phenomenon of quantum entanglement and its applications. The article explains how entangled particles remain connected no matter the distance between them, and how this violates classical limits. It also explores how entanglement enables quantum teleportation, where information about one particle can be transmitted to another, even if they are far apart. The article mentions the potential applications of entanglement in quantum computing, secure communication, sensors, clocks, and cryptography.\n",
      "\n",
      "Document 2 titled \"CRISPR-Cas9: Rewriting the Genetic Code\" focuses on the revolutionary gene-editing tool CRISPR-Cas9 and its impact on biology and medicine. The article explains how CRISPR-Cas9 acts like molecular scissors, targeting specific DNA sequences and allowing researchers to insert, delete or modify genes with high accuracy. It discusses the potential applications of CRISPR-Cas9 in treating genetic diseases, enhancing agriculture, potentially creating designer babies (which raises ethical concerns), and conserving endangered species through genome editing.\n"
     ]
    }
   ],
   "source": [
    "estimated_max_tokens=300\n",
    "\n",
    "system_message=\"\"\"\n",
    "You help write a summary of this document.\n",
    "\"\"\"\n",
    "prompt=f\"\"\"\n",
    "Documents to summarize:\n",
    "{documents_to_check}\n",
    "\"\"\"\n",
    "\n",
    "result,prompt_tokens,completion_tokens,completion_text,e2e_time=aoai_call(system_message,prompt,model,estimated_max_tokens)\n",
    "print(f\"Prompt Tokens: {prompt_tokens}\")\n",
    "print(f\"Completion Tokens: {completion_tokens}\")\n",
    "print(f\"Total cost: ${prompt_tokens*prompt_token_cost + completion_tokens*generation_token_cost:.4f}\")\n",
    "print(f\"Time taken: {e2e_time:.2f} seconds\")\n",
    "print(completion_text)\n"
   ]
  }
 ],
 "metadata": {
  "kernelspec": {
   "display_name": ".venv",
   "language": "python",
   "name": "python3"
  },
  "language_info": {
   "codemirror_mode": {
    "name": "ipython",
    "version": 3
   },
   "file_extension": ".py",
   "mimetype": "text/x-python",
   "name": "python",
   "nbconvert_exporter": "python",
   "pygments_lexer": "ipython3",
   "version": "3.11.6"
  }
 },
 "nbformat": 4,
 "nbformat_minor": 2
}
